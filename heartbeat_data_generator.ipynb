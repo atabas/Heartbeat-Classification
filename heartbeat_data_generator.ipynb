{
 "cells": [
  {
   "cell_type": "code",
   "execution_count": 1,
   "metadata": {},
   "outputs": [],
   "source": [
    "import pandas as pd\n",
    "import numpy as np\n",
    "import matplotlib.pyplot as plt\n",
    "from mpl_toolkits.axes_grid1 import ImageGrid\n",
    "from pyts.image import GramianAngularField\n",
    "from pyts.datasets import load_gunpoint\n",
    "from sklearn.metrics.pairwise import cosine_similarity\n",
    "from sklearn.metrics.pairwise import pairwise_distances\n",
    "from sklearn.utils import resample\n",
    "from imblearn.combine import SMOTETomek\n",
    "from imblearn.over_sampling import SMOTE\n",
    "from imblearn.under_sampling import TomekLinks, NearMiss\n",
    "from sklearn.model_selection import train_test_split\n",
    "\n",
    "import torch\n",
    "import torch.nn as nn\n",
    "import torch.nn.functional as F\n",
    "import torch.optim as optim\n",
    "import torchvision\n",
    "from torchvision import datasets, transforms\n",
    "from torch.utils.data import DataLoader, Dataset,TensorDataset\n",
    "\n",
    "from matplotlib import colors\n",
    "from IPython import display\n",
    "import os\n",
    "from torch.utils.data.dataset import Dataset\n",
    "from matplotlib.pyplot import imread\n",
    "import glob\n",
    "import os\n",
    "import random\n",
    "from sklearn.preprocessing import LabelEncoder\n",
    "\n",
    "from torchvision.models import alexnet, vgg16, resnet152, resnet18, vgg19\n",
    "\n",
    "%matplotlib inline\n",
    "\n",
    "from torch.distributions.utils import lazy_property\n",
    "import math\n",
    "import h5py\n",
    "from PIL import Image\n",
    "\n",
    "\n",
    "import torch.nn.functional as nnf\n",
    "from torch.utils.data import random_split\n",
    "from torch.optim import SGD \n",
    "from torch.distributions import constraints\n",
    "import torchvision as torchv\n",
    "import torchvision.transforms as torchvt\n",
    "import pickle\n",
    "from sklearn.preprocessing import StandardScaler, MinMaxScaler"
   ]
  },
  {
   "cell_type": "code",
   "execution_count": 2,
   "metadata": {},
   "outputs": [],
   "source": [
    "df_hb_train = pd.read_csv('mitbih_train.csv', header=None)\n",
    "df_hb_test = pd.read_csv('mitbih_test.csv', header=None)"
   ]
  },
  {
   "cell_type": "code",
   "execution_count": 15,
   "metadata": {},
   "outputs": [
    {
     "data": {
      "text/plain": [
       "(21892, 188)"
      ]
     },
     "execution_count": 15,
     "metadata": {},
     "output_type": "execute_result"
    }
   ],
   "source": [
    "df_hb_test.shape"
   ]
  },
  {
   "cell_type": "code",
   "execution_count": 3,
   "metadata": {},
   "outputs": [
    {
     "data": {
      "text/plain": [
       "0.0    72471\n",
       "4.0     6431\n",
       "2.0     5788\n",
       "1.0     2223\n",
       "3.0      641\n",
       "Name: 187, dtype: int64"
      ]
     },
     "execution_count": 3,
     "metadata": {},
     "output_type": "execute_result"
    }
   ],
   "source": [
    "df_hb_train[187].value_counts()"
   ]
  },
  {
   "cell_type": "code",
   "execution_count": 4,
   "metadata": {},
   "outputs": [
    {
     "data": {
      "text/plain": [
       "0.0    18118\n",
       "4.0     1608\n",
       "2.0     1448\n",
       "1.0      556\n",
       "3.0      162\n",
       "Name: 187, dtype: int64"
      ]
     },
     "execution_count": 4,
     "metadata": {},
     "output_type": "execute_result"
    }
   ],
   "source": [
    "df_hb_test[187].value_counts()"
   ]
  },
  {
   "cell_type": "code",
   "execution_count": 5,
   "metadata": {},
   "outputs": [
    {
     "data": {
      "text/html": [
       "<div>\n",
       "<style scoped>\n",
       "    .dataframe tbody tr th:only-of-type {\n",
       "        vertical-align: middle;\n",
       "    }\n",
       "\n",
       "    .dataframe tbody tr th {\n",
       "        vertical-align: top;\n",
       "    }\n",
       "\n",
       "    .dataframe thead th {\n",
       "        text-align: right;\n",
       "    }\n",
       "</style>\n",
       "<table border=\"1\" class=\"dataframe\">\n",
       "  <thead>\n",
       "    <tr style=\"text-align: right;\">\n",
       "      <th></th>\n",
       "      <th>0</th>\n",
       "      <th>1</th>\n",
       "      <th>2</th>\n",
       "      <th>3</th>\n",
       "      <th>4</th>\n",
       "      <th>5</th>\n",
       "      <th>6</th>\n",
       "      <th>7</th>\n",
       "      <th>8</th>\n",
       "      <th>9</th>\n",
       "      <th>...</th>\n",
       "      <th>178</th>\n",
       "      <th>179</th>\n",
       "      <th>180</th>\n",
       "      <th>181</th>\n",
       "      <th>182</th>\n",
       "      <th>183</th>\n",
       "      <th>184</th>\n",
       "      <th>185</th>\n",
       "      <th>186</th>\n",
       "      <th>187</th>\n",
       "    </tr>\n",
       "  </thead>\n",
       "  <tbody>\n",
       "    <tr>\n",
       "      <th>80482</th>\n",
       "      <td>1.000000</td>\n",
       "      <td>0.899749</td>\n",
       "      <td>0.641604</td>\n",
       "      <td>0.314536</td>\n",
       "      <td>0.101504</td>\n",
       "      <td>0.107769</td>\n",
       "      <td>0.111529</td>\n",
       "      <td>0.071429</td>\n",
       "      <td>0.063910</td>\n",
       "      <td>0.058897</td>\n",
       "      <td>...</td>\n",
       "      <td>0.0</td>\n",
       "      <td>0.0</td>\n",
       "      <td>0.0</td>\n",
       "      <td>0.0</td>\n",
       "      <td>0.0</td>\n",
       "      <td>0.0</td>\n",
       "      <td>0.0</td>\n",
       "      <td>0.0</td>\n",
       "      <td>0.0</td>\n",
       "      <td>3.0</td>\n",
       "    </tr>\n",
       "    <tr>\n",
       "      <th>80483</th>\n",
       "      <td>0.732252</td>\n",
       "      <td>1.000000</td>\n",
       "      <td>0.983773</td>\n",
       "      <td>0.484787</td>\n",
       "      <td>0.178499</td>\n",
       "      <td>0.111562</td>\n",
       "      <td>0.081136</td>\n",
       "      <td>0.050710</td>\n",
       "      <td>0.046653</td>\n",
       "      <td>0.046653</td>\n",
       "      <td>...</td>\n",
       "      <td>0.0</td>\n",
       "      <td>0.0</td>\n",
       "      <td>0.0</td>\n",
       "      <td>0.0</td>\n",
       "      <td>0.0</td>\n",
       "      <td>0.0</td>\n",
       "      <td>0.0</td>\n",
       "      <td>0.0</td>\n",
       "      <td>0.0</td>\n",
       "      <td>3.0</td>\n",
       "    </tr>\n",
       "    <tr>\n",
       "      <th>80484</th>\n",
       "      <td>0.991984</td>\n",
       "      <td>1.000000</td>\n",
       "      <td>0.601202</td>\n",
       "      <td>0.280561</td>\n",
       "      <td>0.158317</td>\n",
       "      <td>0.146293</td>\n",
       "      <td>0.104208</td>\n",
       "      <td>0.090180</td>\n",
       "      <td>0.080160</td>\n",
       "      <td>0.070140</td>\n",
       "      <td>...</td>\n",
       "      <td>0.0</td>\n",
       "      <td>0.0</td>\n",
       "      <td>0.0</td>\n",
       "      <td>0.0</td>\n",
       "      <td>0.0</td>\n",
       "      <td>0.0</td>\n",
       "      <td>0.0</td>\n",
       "      <td>0.0</td>\n",
       "      <td>0.0</td>\n",
       "      <td>3.0</td>\n",
       "    </tr>\n",
       "    <tr>\n",
       "      <th>80485</th>\n",
       "      <td>0.778378</td>\n",
       "      <td>0.528378</td>\n",
       "      <td>0.258108</td>\n",
       "      <td>0.128378</td>\n",
       "      <td>0.000000</td>\n",
       "      <td>0.037838</td>\n",
       "      <td>0.167568</td>\n",
       "      <td>0.235135</td>\n",
       "      <td>0.227027</td>\n",
       "      <td>0.222973</td>\n",
       "      <td>...</td>\n",
       "      <td>0.0</td>\n",
       "      <td>0.0</td>\n",
       "      <td>0.0</td>\n",
       "      <td>0.0</td>\n",
       "      <td>0.0</td>\n",
       "      <td>0.0</td>\n",
       "      <td>0.0</td>\n",
       "      <td>0.0</td>\n",
       "      <td>0.0</td>\n",
       "      <td>3.0</td>\n",
       "    </tr>\n",
       "    <tr>\n",
       "      <th>80486</th>\n",
       "      <td>1.000000</td>\n",
       "      <td>0.914931</td>\n",
       "      <td>0.531250</td>\n",
       "      <td>0.303819</td>\n",
       "      <td>0.178819</td>\n",
       "      <td>0.157986</td>\n",
       "      <td>0.128472</td>\n",
       "      <td>0.126736</td>\n",
       "      <td>0.118056</td>\n",
       "      <td>0.111111</td>\n",
       "      <td>...</td>\n",
       "      <td>0.0</td>\n",
       "      <td>0.0</td>\n",
       "      <td>0.0</td>\n",
       "      <td>0.0</td>\n",
       "      <td>0.0</td>\n",
       "      <td>0.0</td>\n",
       "      <td>0.0</td>\n",
       "      <td>0.0</td>\n",
       "      <td>0.0</td>\n",
       "      <td>3.0</td>\n",
       "    </tr>\n",
       "    <tr>\n",
       "      <th>...</th>\n",
       "      <td>...</td>\n",
       "      <td>...</td>\n",
       "      <td>...</td>\n",
       "      <td>...</td>\n",
       "      <td>...</td>\n",
       "      <td>...</td>\n",
       "      <td>...</td>\n",
       "      <td>...</td>\n",
       "      <td>...</td>\n",
       "      <td>...</td>\n",
       "      <td>...</td>\n",
       "      <td>...</td>\n",
       "      <td>...</td>\n",
       "      <td>...</td>\n",
       "      <td>...</td>\n",
       "      <td>...</td>\n",
       "      <td>...</td>\n",
       "      <td>...</td>\n",
       "      <td>...</td>\n",
       "      <td>...</td>\n",
       "      <td>...</td>\n",
       "    </tr>\n",
       "    <tr>\n",
       "      <th>81118</th>\n",
       "      <td>0.771529</td>\n",
       "      <td>1.000000</td>\n",
       "      <td>0.776801</td>\n",
       "      <td>0.316344</td>\n",
       "      <td>0.165202</td>\n",
       "      <td>0.124780</td>\n",
       "      <td>0.117750</td>\n",
       "      <td>0.108963</td>\n",
       "      <td>0.084359</td>\n",
       "      <td>0.091388</td>\n",
       "      <td>...</td>\n",
       "      <td>0.0</td>\n",
       "      <td>0.0</td>\n",
       "      <td>0.0</td>\n",
       "      <td>0.0</td>\n",
       "      <td>0.0</td>\n",
       "      <td>0.0</td>\n",
       "      <td>0.0</td>\n",
       "      <td>0.0</td>\n",
       "      <td>0.0</td>\n",
       "      <td>3.0</td>\n",
       "    </tr>\n",
       "    <tr>\n",
       "      <th>81119</th>\n",
       "      <td>0.590000</td>\n",
       "      <td>0.373333</td>\n",
       "      <td>0.283333</td>\n",
       "      <td>0.303333</td>\n",
       "      <td>0.340000</td>\n",
       "      <td>0.263333</td>\n",
       "      <td>0.136667</td>\n",
       "      <td>0.120000</td>\n",
       "      <td>0.090000</td>\n",
       "      <td>0.110000</td>\n",
       "      <td>...</td>\n",
       "      <td>0.0</td>\n",
       "      <td>0.0</td>\n",
       "      <td>0.0</td>\n",
       "      <td>0.0</td>\n",
       "      <td>0.0</td>\n",
       "      <td>0.0</td>\n",
       "      <td>0.0</td>\n",
       "      <td>0.0</td>\n",
       "      <td>0.0</td>\n",
       "      <td>3.0</td>\n",
       "    </tr>\n",
       "    <tr>\n",
       "      <th>81120</th>\n",
       "      <td>1.000000</td>\n",
       "      <td>0.939286</td>\n",
       "      <td>0.553571</td>\n",
       "      <td>0.285714</td>\n",
       "      <td>0.166071</td>\n",
       "      <td>0.141071</td>\n",
       "      <td>0.112500</td>\n",
       "      <td>0.108929</td>\n",
       "      <td>0.094643</td>\n",
       "      <td>0.096429</td>\n",
       "      <td>...</td>\n",
       "      <td>0.0</td>\n",
       "      <td>0.0</td>\n",
       "      <td>0.0</td>\n",
       "      <td>0.0</td>\n",
       "      <td>0.0</td>\n",
       "      <td>0.0</td>\n",
       "      <td>0.0</td>\n",
       "      <td>0.0</td>\n",
       "      <td>0.0</td>\n",
       "      <td>3.0</td>\n",
       "    </tr>\n",
       "    <tr>\n",
       "      <th>81121</th>\n",
       "      <td>1.000000</td>\n",
       "      <td>0.964981</td>\n",
       "      <td>0.778210</td>\n",
       "      <td>0.513619</td>\n",
       "      <td>0.214008</td>\n",
       "      <td>0.090791</td>\n",
       "      <td>0.112840</td>\n",
       "      <td>0.097276</td>\n",
       "      <td>0.075227</td>\n",
       "      <td>0.070039</td>\n",
       "      <td>...</td>\n",
       "      <td>0.0</td>\n",
       "      <td>0.0</td>\n",
       "      <td>0.0</td>\n",
       "      <td>0.0</td>\n",
       "      <td>0.0</td>\n",
       "      <td>0.0</td>\n",
       "      <td>0.0</td>\n",
       "      <td>0.0</td>\n",
       "      <td>0.0</td>\n",
       "      <td>3.0</td>\n",
       "    </tr>\n",
       "    <tr>\n",
       "      <th>81122</th>\n",
       "      <td>0.724014</td>\n",
       "      <td>1.000000</td>\n",
       "      <td>0.801075</td>\n",
       "      <td>0.252688</td>\n",
       "      <td>0.093190</td>\n",
       "      <td>0.066308</td>\n",
       "      <td>0.043011</td>\n",
       "      <td>0.030466</td>\n",
       "      <td>0.021505</td>\n",
       "      <td>0.021505</td>\n",
       "      <td>...</td>\n",
       "      <td>0.0</td>\n",
       "      <td>0.0</td>\n",
       "      <td>0.0</td>\n",
       "      <td>0.0</td>\n",
       "      <td>0.0</td>\n",
       "      <td>0.0</td>\n",
       "      <td>0.0</td>\n",
       "      <td>0.0</td>\n",
       "      <td>0.0</td>\n",
       "      <td>3.0</td>\n",
       "    </tr>\n",
       "  </tbody>\n",
       "</table>\n",
       "<p>641 rows × 188 columns</p>\n",
       "</div>"
      ],
      "text/plain": [
       "            0         1         2         3         4         5         6    \\\n",
       "80482  1.000000  0.899749  0.641604  0.314536  0.101504  0.107769  0.111529   \n",
       "80483  0.732252  1.000000  0.983773  0.484787  0.178499  0.111562  0.081136   \n",
       "80484  0.991984  1.000000  0.601202  0.280561  0.158317  0.146293  0.104208   \n",
       "80485  0.778378  0.528378  0.258108  0.128378  0.000000  0.037838  0.167568   \n",
       "80486  1.000000  0.914931  0.531250  0.303819  0.178819  0.157986  0.128472   \n",
       "...         ...       ...       ...       ...       ...       ...       ...   \n",
       "81118  0.771529  1.000000  0.776801  0.316344  0.165202  0.124780  0.117750   \n",
       "81119  0.590000  0.373333  0.283333  0.303333  0.340000  0.263333  0.136667   \n",
       "81120  1.000000  0.939286  0.553571  0.285714  0.166071  0.141071  0.112500   \n",
       "81121  1.000000  0.964981  0.778210  0.513619  0.214008  0.090791  0.112840   \n",
       "81122  0.724014  1.000000  0.801075  0.252688  0.093190  0.066308  0.043011   \n",
       "\n",
       "            7         8         9    ...  178  179  180  181  182  183  184  \\\n",
       "80482  0.071429  0.063910  0.058897  ...  0.0  0.0  0.0  0.0  0.0  0.0  0.0   \n",
       "80483  0.050710  0.046653  0.046653  ...  0.0  0.0  0.0  0.0  0.0  0.0  0.0   \n",
       "80484  0.090180  0.080160  0.070140  ...  0.0  0.0  0.0  0.0  0.0  0.0  0.0   \n",
       "80485  0.235135  0.227027  0.222973  ...  0.0  0.0  0.0  0.0  0.0  0.0  0.0   \n",
       "80486  0.126736  0.118056  0.111111  ...  0.0  0.0  0.0  0.0  0.0  0.0  0.0   \n",
       "...         ...       ...       ...  ...  ...  ...  ...  ...  ...  ...  ...   \n",
       "81118  0.108963  0.084359  0.091388  ...  0.0  0.0  0.0  0.0  0.0  0.0  0.0   \n",
       "81119  0.120000  0.090000  0.110000  ...  0.0  0.0  0.0  0.0  0.0  0.0  0.0   \n",
       "81120  0.108929  0.094643  0.096429  ...  0.0  0.0  0.0  0.0  0.0  0.0  0.0   \n",
       "81121  0.097276  0.075227  0.070039  ...  0.0  0.0  0.0  0.0  0.0  0.0  0.0   \n",
       "81122  0.030466  0.021505  0.021505  ...  0.0  0.0  0.0  0.0  0.0  0.0  0.0   \n",
       "\n",
       "       185  186  187  \n",
       "80482  0.0  0.0  3.0  \n",
       "80483  0.0  0.0  3.0  \n",
       "80484  0.0  0.0  3.0  \n",
       "80485  0.0  0.0  3.0  \n",
       "80486  0.0  0.0  3.0  \n",
       "...    ...  ...  ...  \n",
       "81118  0.0  0.0  3.0  \n",
       "81119  0.0  0.0  3.0  \n",
       "81120  0.0  0.0  3.0  \n",
       "81121  0.0  0.0  3.0  \n",
       "81122  0.0  0.0  3.0  \n",
       "\n",
       "[641 rows x 188 columns]"
      ]
     },
     "execution_count": 5,
     "metadata": {},
     "output_type": "execute_result"
    }
   ],
   "source": [
    "df_hb_train[df_hb_train[187] == 3]"
   ]
  },
  {
   "cell_type": "code",
   "execution_count": 6,
   "metadata": {},
   "outputs": [
    {
     "data": {
      "text/plain": [
       "(87554, 188)"
      ]
     },
     "execution_count": 6,
     "metadata": {},
     "output_type": "execute_result"
    }
   ],
   "source": [
    "df_hb_train.shape"
   ]
  },
  {
   "cell_type": "code",
   "execution_count": 7,
   "metadata": {},
   "outputs": [
    {
     "data": {
      "text/plain": [
       "(21892, 188)"
      ]
     },
     "execution_count": 7,
     "metadata": {},
     "output_type": "execute_result"
    }
   ],
   "source": [
    "df_hb_test.shape"
   ]
  },
  {
   "cell_type": "code",
   "execution_count": 3,
   "metadata": {},
   "outputs": [],
   "source": [
    "x_train = df_hb_train.iloc[:,:187]\n",
    "x_test = df_hb_test.iloc[:,:187]"
   ]
  },
  {
   "cell_type": "code",
   "execution_count": 12,
   "metadata": {},
   "outputs": [],
   "source": [
    "# def add_gaussian_noise(signal):\n",
    "#     noise=np.random.normal(0,0.05,187)\n",
    "#     return (signal+noise)"
   ]
  },
  {
   "cell_type": "code",
   "execution_count": 13,
   "metadata": {},
   "outputs": [],
   "source": [
    "# x_train = add_gaussian_noise(x_train)"
   ]
  },
  {
   "cell_type": "code",
   "execution_count": 4,
   "metadata": {},
   "outputs": [],
   "source": [
    "# For exploratory purpose only\n",
    "gasf = GramianAngularField(image_size=187, method='summation')\n",
    "x_gasf_train = gasf.fit_transform(x_train)\n",
    "x_gasf_test = gasf.transform(x_test)"
   ]
  },
  {
   "cell_type": "code",
   "execution_count": 14,
   "metadata": {},
   "outputs": [
    {
     "data": {
      "text/plain": [
       "[<matplotlib.lines.Line2D at 0x7fa8e70fbbe0>]"
      ]
     },
     "execution_count": 14,
     "metadata": {},
     "output_type": "execute_result"
    },
    {
     "data": {
      "image/png": "[encoded data removed]",
      "text/plain": [
       "<Figure size 432x288 with 1 Axes>"
      ]
     },
     "metadata": {
      "needs_background": "light"
     },
     "output_type": "display_data"
    }
   ],
   "source": [
    "x_train.values[87553, :]\n",
    "plt.plot(np.arange(187), x_train.values[87553, :])"
   ]
  },
  {
   "cell_type": "code",
   "execution_count": 14,
   "metadata": {},
   "outputs": [
    {
     "data": {
      "text/plain": [
       "<matplotlib.image.AxesImage at 0x7f816db8ef98>"
      ]
     },
     "execution_count": 14,
     "metadata": {},
     "output_type": "execute_result"
    },
    {
     "data": {
      "image/png": "[encoded data removed]",
      "text/plain": [
       "<Figure size 432x288 with 1 Axes>"
      ]
     },
     "metadata": {
      "needs_background": "light"
     },
     "output_type": "display_data"
    }
   ],
   "source": [
    "plt.imshow(x_gasf_train[87553], cmap='gray', origin='lower')"
   ]
  },
  {
   "cell_type": "code",
   "execution_count": 11,
   "metadata": {},
   "outputs": [
    {
     "data": {
      "text/plain": [
       "<matplotlib.image.AxesImage at 0x7f264c5a8470>"
      ]
     },
     "execution_count": 11,
     "metadata": {},
     "output_type": "execute_result"
    },
    {
     "data": {
      "image/png": "[encoded data removed]",
      "text/plain": [
       "<Figure size 432x288 with 1 Axes>"
      ]
     },
     "metadata": {
      "needs_background": "light"
     },
     "output_type": "display_data"
    }
   ],
   "source": [
    "plt.imshow(x_gasf_test[21891], cmap='gray', origin='lower')"
   ]
  },
  {
   "cell_type": "code",
   "execution_count": 13,
   "metadata": {},
   "outputs": [],
   "source": [
    "# Test\n",
    "# def recurrence_plot(s, eps=None, steps=None):\n",
    "#     result = []\n",
    "#     if eps==None: eps=0.1\n",
    "#     if steps==None: steps=10\n",
    "#     for i in range(s.shape[0]):\n",
    "#         d = pairwise_distances(s[i][:, None])\n",
    "#     #     d = np.floor(d / eps)\n",
    "#         d = d / eps\n",
    "# #         print(d.shape)\n",
    "#         d[d > steps] = steps\n",
    "#         result.append(d/5. - 1)\n",
    "#     #Z = squareform(d)\n",
    "#     return np.array(result)"
   ]
  },
  {
   "cell_type": "code",
   "execution_count": 12,
   "metadata": {},
   "outputs": [],
   "source": [
    "def recurrence_plot(s, eps=None, steps=None):\n",
    "    result = []\n",
    "    if eps==None: eps=0.1\n",
    "    if steps==None: steps=10\n",
    "    d = pairwise_distances(s[:, None])\n",
    "#     d = np.floor(d / eps)\n",
    "    d = d / eps\n",
    "#         print(d.shape)\n",
    "    d[d > steps] = steps\n",
    "    #Z = squareform(d)\n",
    "    return d/5. - 1"
   ]
  },
  {
   "cell_type": "code",
   "execution_count": 15,
   "metadata": {},
   "outputs": [],
   "source": [
    "result = recurrence_plot(x_train.values[87553], steps=10)"
   ]
  },
  {
   "cell_type": "code",
   "execution_count": 16,
   "metadata": {},
   "outputs": [
    {
     "data": {
      "text/plain": [
       "(187, 187)"
      ]
     },
     "execution_count": 16,
     "metadata": {},
     "output_type": "execute_result"
    }
   ],
   "source": [
    "result.shape"
   ]
  },
  {
   "cell_type": "code",
   "execution_count": 17,
   "metadata": {},
   "outputs": [
    {
     "data": {
      "text/plain": [
       "<matplotlib.image.AxesImage at 0x7f8176c30748>"
      ]
     },
     "execution_count": 17,
     "metadata": {},
     "output_type": "execute_result"
    },
    {
     "data": {
      "image/png": "[encoded data removed]",
      "text/plain": [
       "<Figure size 1080x1008 with 1 Axes>"
      ]
     },
     "metadata": {
      "needs_background": "light"
     },
     "output_type": "display_data"
    }
   ],
   "source": [
    "fig = plt.figure(figsize=(15,14))\n",
    "ax = fig.add_subplot(2, 3, 1)\n",
    "ax.imshow(result, cmap='gray')"
   ]
  },
  {
   "cell_type": "code",
   "execution_count": 19,
   "metadata": {},
   "outputs": [
    {
     "name": "stdout",
     "output_type": "stream",
     "text": [
      "(187, 187)\n",
      "(187, 187)\n"
     ]
    },
    {
     "data": {
      "text/plain": [
       "array([[-1.        ],\n",
       "       [-0.66442955],\n",
       "       [ 0.14093959],\n",
       "       ...,\n",
       "       [-1.        ],\n",
       "       [-1.        ],\n",
       "       [-1.        ]])"
      ]
     },
     "execution_count": 19,
     "metadata": {},
     "output_type": "execute_result"
    },
    {
     "data": {
      "image/png": "[encoded data removed]",
      "text/plain": [
       "<Figure size 1080x1008 with 1 Axes>"
      ]
     },
     "metadata": {
      "needs_background": "light"
     },
     "output_type": "display_data"
    }
   ],
   "source": [
    "# Test\n",
    "\n",
    "fig = plt.figure(figsize=(15,14))\n",
    "ax = fig.add_subplot(2, 3, 1)\n",
    "ax.imshow(recurrence_plot(x_train.values[25][:, None], steps=10), cmap='gray')\n",
    "d = recurrence_plot(x_train.values[25][:, None], steps=10)\n",
    "scaler = MinMaxScaler((-1, 1))\n",
    "# d.reshape(187 * 187, 1)\n",
    "x = scaler.fit_transform(d.reshape(187 * 187, 1))\n",
    "# x.min()\n",
    "x"
   ]
  },
  {
   "cell_type": "code",
   "execution_count": 20,
   "metadata": {},
   "outputs": [
    {
     "data": {
      "text/plain": [
       "array([], dtype=float64)"
      ]
     },
     "execution_count": 20,
     "metadata": {},
     "output_type": "execute_result"
    }
   ],
   "source": [
    "d[d > 10]"
   ]
  },
  {
   "cell_type": "code",
   "execution_count": 114,
   "metadata": {},
   "outputs": [
    {
     "data": {
      "text/plain": [
       "array([[0.        ],\n",
       "       [0.16778523],\n",
       "       [0.5704698 ],\n",
       "       ...,\n",
       "       [0.        ],\n",
       "       [0.        ],\n",
       "       [0.        ]])"
      ]
     },
     "execution_count": 114,
     "metadata": {},
     "output_type": "execute_result"
    }
   ],
   "source": [
    "d.reshape(187 * 187, 1)"
   ]
  },
  {
   "cell_type": "code",
   "execution_count": 115,
   "metadata": {},
   "outputs": [
    {
     "data": {
      "text/plain": [
       "array([[ 0.        ],\n",
       "       [-1.22474487],\n",
       "       [ 1.22474487]])"
      ]
     },
     "execution_count": 115,
     "metadata": {},
     "output_type": "execute_result"
    }
   ],
   "source": [
    "data = [[.3], [.2], [.4]]\n",
    "scaler = StandardScaler()\n",
    "scaler.fit(data)\n",
    "scaler.transform(data)"
   ]
  },
  {
   "cell_type": "code",
   "execution_count": 5,
   "metadata": {},
   "outputs": [],
   "source": [
    "y_train = df_hb_train[187].values.astype(int)\n",
    "y_test = df_hb_test[187].values.astype(int)"
   ]
  },
  {
   "cell_type": "code",
   "execution_count": 1,
   "metadata": {
    "scrolled": true
   },
   "outputs": [],
   "source": [
    "# with h5py.File('hb_data_mit_bih.hdf5', mode='w') as hdf5_file:\n",
    "#     hdf5_file.create_dataset(\"x_train\", (len(x_gasf_train), 224, 224), np.float32)\n",
    "#     hdf5_file.create_dataset(\"y_train\", (len(y_train),), np.int32)\n",
    "#     hdf5_file.create_dataset(\"x_test\", (len(x_gasf_test), 224, 224), np.float32)\n",
    "#     hdf5_file.create_dataset(\"y_test\", (len(y_test),), np.int32)\n",
    "    \n",
    "#     transform = transforms.Compose([transforms.Resize((224, 224))])\n",
    "    \n",
    "#     for i, (x, y) in enumerate(zip(x_gasf_train, y_train)):\n",
    "#         image = Image.fromarray(x.astype(float))\n",
    "#         t = np.array(transform(image))\n",
    "#         hdf5_file[\"x_train\"][i, ...] = t\n",
    "#         hdf5_file[\"y_train\"][i] = y\n",
    "\n",
    "#     for i, (x, y) in enumerate(zip(x_gasf_test, y_test)):\n",
    "#         image = Image.fromarray(x.astype(float))\n",
    "#         t = np.array(transform(image))\n",
    "#         hdf5_file[\"x_test\"][i, ...] = t\n",
    "#         hdf5_file[\"y_test\"][i] = y"
   ]
  },
  {
   "cell_type": "code",
   "execution_count": 89,
   "metadata": {
    "scrolled": true
   },
   "outputs": [],
   "source": [
    "# smt = SMOTE(sampling_strategy={1:20000, 2: 20000, 3: 20000, 4: 20000}, n_jobs=-1, random_state=42)\n",
    "# x_smt, y_smt = smt.fit_sample(x_train, y_train)\n",
    "# nms = NearMiss(sampling_strategy={0:20000}, n_jobs=-1)\n",
    "# x_train_bln, y_train_bln = nms.fit_resample(x_smt, y_smt)"
   ]
  },
  {
   "cell_type": "code",
   "execution_count": 95,
   "metadata": {},
   "outputs": [],
   "source": [
    "# smt_test = SMOTE(sampling_strategy={1: 819, 3: 819}, n_jobs=-1, random_state=42)\n",
    "# x_smt_test, y_smt_test = smt_test.fit_sample(x_test, y_test)\n",
    "# nms_test = NearMiss(sampling_strategy={0:819, 2:819, 4:819}, n_jobs=-1)\n",
    "# x_test_bln, y_test_bln = nms_test.fit_resample(x_smt_test, y_smt_test)"
   ]
  },
  {
   "cell_type": "code",
   "execution_count": 101,
   "metadata": {},
   "outputs": [],
   "source": [
    "# gasf = GramianAngularField(image_size=187, method='summation')\n",
    "# x_gasf_train_bln = gasf.fit_transform(x_train_bln)\n",
    "# x_gasf_test_bln = gasf.transform(x_test_bln)"
   ]
  },
  {
   "cell_type": "code",
   "execution_count": 2,
   "metadata": {},
   "outputs": [],
   "source": [
    "# plt.imshow(x_gasf_test_bln[1000], cmap='gray', origin='lower')"
   ]
  },
  {
   "cell_type": "code",
   "execution_count": 107,
   "metadata": {},
   "outputs": [],
   "source": [
    "# with h5py.File('hb_data_mit_bih_balanced.hdf5', mode='w') as hdf5_file:\n",
    "#     hdf5_file.create_dataset(\"x_train\", (len(x_gasf_train_bln), 224, 224), np.float32)\n",
    "#     hdf5_file.create_dataset(\"y_train\", (len(y_train_bln),), np.int32)\n",
    "#     hdf5_file.create_dataset(\"x_test\", (len(x_gasf_test_bln), 224, 224), np.float32)\n",
    "#     hdf5_file.create_dataset(\"y_test\", (len(y_test_bln),), np.int32)\n",
    "    \n",
    "#     transform = transforms.Compose([transforms.Resize((224, 224))])\n",
    "    \n",
    "#     for i, (x, y) in enumerate(zip(x_gasf_train_bln, y_train_bln)):\n",
    "#         image = Image.fromarray(x.astype(float))\n",
    "#         t = np.array(transform(image))\n",
    "#         hdf5_file[\"x_train\"][i, ...] = t\n",
    "#         hdf5_file[\"y_train\"][i] = y\n",
    "\n",
    "#     for i, (x, y) in enumerate(zip(x_gasf_test_bln, y_test_bln)):\n",
    "#         image = Image.fromarray(x.astype(float))\n",
    "#         t = np.array(transform(image))\n",
    "#         hdf5_file[\"x_test\"][i, ...] = t\n",
    "#         hdf5_file[\"y_test\"][i] = y"
   ]
  },
  {
   "cell_type": "code",
   "execution_count": 11,
   "metadata": {},
   "outputs": [],
   "source": [
    "# upsampling\n",
    "smt2 = SMOTE(sampling_strategy={1: 30000, 2: 20000, 3: 20000, 4: 10000}, n_jobs=-1, random_state=42)\n",
    "x_train_2, y_train_2 = smt2.fit_sample(x_train, y_train)\n",
    "\n",
    "gasf = GramianAngularField(image_size=150, method='summation')\n",
    "x_gasf_train_2 = gasf.fit_transform(x_train_2)\n",
    "x_gasf_test_2 = gasf.transform(x_test)"
   ]
  },
  {
   "cell_type": "code",
   "execution_count": 12,
   "metadata": {},
   "outputs": [],
   "source": [
    "with h5py.File('hb_data_mit_bih_balanced_2.hdf5', mode='w') as hdf5_file:\n",
    "    hdf5_file.create_dataset(\"x_train\", (len(x_gasf_train_2), 224, 224), np.float32)\n",
    "    hdf5_file.create_dataset(\"y_train\", (len(y_train_2),), np.int32)\n",
    "    hdf5_file.create_dataset(\"x_test\", (len(x_gasf_test_2), 224, 224), np.float32)\n",
    "    hdf5_file.create_dataset(\"y_test\", (len(y_test),), np.int32)\n",
    "    \n",
    "    transform = transforms.Compose([transforms.Resize((224, 224))])\n",
    "    \n",
    "    for i, (x, y) in enumerate(zip(x_gasf_train_2, y_train_2)):\n",
    "        image = Image.fromarray(x.astype(float))\n",
    "        t = np.array(transform(image))\n",
    "        hdf5_file[\"x_train\"][i, ...] = t\n",
    "        hdf5_file[\"y_train\"][i] = y\n",
    "\n",
    "    for i, (x, y) in enumerate(zip(x_gasf_test_2, y_test)):\n",
    "        image = Image.fromarray(x.astype(float))\n",
    "        t = np.array(transform(image))\n",
    "        hdf5_file[\"x_test\"][i, ...] = t\n",
    "        hdf5_file[\"y_test\"][i] = y"
   ]
  },
  {
   "cell_type": "code",
   "execution_count": 6,
   "metadata": {},
   "outputs": [],
   "source": [
    "# upsampling to try with GramianAngularField method='difference'\n",
    "# results are almost same for both\n",
    "smt3 = SMOTE(sampling_strategy={1: 30000, 2: 20000, 3: 20000, 4: 10000}, n_jobs=-1, random_state=42)\n",
    "x_train_3, y_train_3 = smt3.fit_sample(x_train, y_train)\n",
    "\n",
    "gasf = GramianAngularField(image_size=150, method='difference')\n",
    "x_gasf_train_3 = gasf.fit_transform(x_train_3)\n",
    "x_gasf_test_3 = gasf.transform(x_test)"
   ]
  },
  {
   "cell_type": "code",
   "execution_count": 10,
   "metadata": {},
   "outputs": [],
   "source": [
    "with h5py.File('hb_data_mit_bih_balanced_3.hdf5', mode='w') as hdf5_file:\n",
    "    hdf5_file.create_dataset(\"x_train\", (len(x_gasf_train_3), 224, 224), np.float32)\n",
    "    hdf5_file.create_dataset(\"y_train\", (len(y_train_3),), np.int32)\n",
    "    hdf5_file.create_dataset(\"x_test\", (len(x_gasf_test_3), 224, 224), np.float32)\n",
    "    hdf5_file.create_dataset(\"y_test\", (len(y_test),), np.int32)\n",
    "    \n",
    "    transform = transforms.Compose([transforms.Resize((224, 224))])\n",
    "    \n",
    "    for i, (x, y) in enumerate(zip(x_gasf_train_3, y_train_3)):\n",
    "        image = Image.fromarray(x.astype(float))\n",
    "        t = np.array(transform(image))\n",
    "        hdf5_file[\"x_train\"][i, ...] = t\n",
    "        hdf5_file[\"y_train\"][i] = y\n",
    "\n",
    "    for i, (x, y) in enumerate(zip(x_gasf_test_3, y_test)):\n",
    "        image = Image.fromarray(x.astype(float))\n",
    "        t = np.array(transform(image))\n",
    "        hdf5_file[\"x_test\"][i, ...] = t\n",
    "        hdf5_file[\"y_test\"][i] = y"
   ]
  },
  {
   "cell_type": "code",
   "execution_count": 7,
   "metadata": {},
   "outputs": [],
   "source": [
    "smt2 = SMOTE(sampling_strategy={1: 30000, 2: 20000, 3: 20000, 4: 10000}, n_jobs=-1, random_state=42)\n",
    "x_train_2, y_train_2 = smt2.fit_sample(x_train, y_train)"
   ]
  },
  {
   "cell_type": "code",
   "execution_count": 16,
   "metadata": {},
   "outputs": [],
   "source": [
    "with h5py.File('hb_data_mit_bih_balanced_rp.hdf5', mode='w') as hdf5_file:\n",
    "    hdf5_file.create_dataset(\"x_train\", (len(x_train_2), 224, 224), np.float32)\n",
    "    hdf5_file.create_dataset(\"y_train\", (len(y_train_2),), np.int32)\n",
    "    hdf5_file.create_dataset(\"x_test\", (len(x_test), 224, 224), np.float32)\n",
    "    hdf5_file.create_dataset(\"y_test\", (len(y_test),), np.int32)\n",
    "    \n",
    "    transform = transforms.Compose([transforms.Resize((224, 224))])\n",
    "    \n",
    "    for i, (x, y) in enumerate(zip(x_train_2.values, y_train_2)):\n",
    "        r = recurrence_plot(x, steps=10)\n",
    "        image = Image.fromarray(r.astype(float))\n",
    "        t = np.array(transform(image))\n",
    "        hdf5_file[\"x_train\"][i, ...] = t\n",
    "        hdf5_file[\"y_train\"][i] = y\n",
    "\n",
    "    for i, (x, y) in enumerate(zip(x_test.values, y_test)):\n",
    "        r = recurrence_plot(x, steps=10)\n",
    "        image = Image.fromarray(r.astype(float))\n",
    "        t = np.array(transform(image))\n",
    "        hdf5_file[\"x_test\"][i, ...] = t\n",
    "        hdf5_file[\"y_test\"][i] = y"
   ]
  },
  {
   "cell_type": "code",
   "execution_count": 8,
   "metadata": {},
   "outputs": [],
   "source": [
    "with h5py.File('/media/asif/data/hb_data_mit_bih_balanced_mixed.hdf5', mode='w') as hdf5_file:\n",
    "    hdf5_file.create_dataset(\"x_train\", (len(x_train_3), 3, 224, 224), np.float32)\n",
    "    hdf5_file.create_dataset(\"y_train\", (len(y_train_3),), np.int32)\n",
    "    hdf5_file.create_dataset(\"x_test\", (len(x_test), 3, 224, 224), np.float32)\n",
    "    hdf5_file.create_dataset(\"y_test\", (len(y_test),), np.int32)\n",
    "    \n",
    "    transform = transforms.Compose([transforms.Resize((224, 224))])\n",
    "    \n",
    "    for i, (x1, x2, y) in enumerate(zip(x_gasf_train_3, x_train_3.values, y_train_3)):\n",
    "        image = Image.fromarray(x1.astype(float))\n",
    "        t = np.array(transform(image))\n",
    "        r = recurrence_plot(x2, steps=10)\n",
    "        image = Image.fromarray(r.astype(float))\n",
    "        t2 = np.array(transform(image))\n",
    "        hdf5_file[\"x_train\"][i, 0, ...] = t\n",
    "        hdf5_file[\"x_train\"][i, 1, ...] = t2\n",
    "        hdf5_file[\"x_train\"][i, 2, ...] = (t + t2) / 2\n",
    "        hdf5_file[\"y_train\"][i] = y\n",
    "\n",
    "    for i, (x1, x2, y) in enumerate(zip(x_gasf_test_3, x_test.values, y_test)):\n",
    "        image = Image.fromarray(x1.astype(float))\n",
    "        t = np.array(transform(image))\n",
    "        r = recurrence_plot(x2, steps=10)\n",
    "        image = Image.fromarray(r.astype(float))\n",
    "        t2 = np.array(transform(image))\n",
    "        hdf5_file[\"x_test\"][i, 0, ...] = t\n",
    "        hdf5_file[\"x_test\"][i, 1, ...] = t2\n",
    "        hdf5_file[\"x_test\"][i, 2, ...] = (t + t2) / 2\n",
    "        hdf5_file[\"y_test\"][i] = y"
   ]
  },
  {
   "cell_type": "code",
   "execution_count": 12,
   "metadata": {},
   "outputs": [
    {
     "data": {
      "text/plain": [
       "array([[[1., 1., 1., 1., 1.],\n",
       "        [1., 1., 1., 1., 1.],\n",
       "        [1., 1., 1., 1., 1.],\n",
       "        [1., 1., 1., 1., 1.],\n",
       "        [1., 1., 1., 1., 1.]]])"
      ]
     },
     "execution_count": 12,
     "metadata": {},
     "output_type": "execute_result"
    }
   ],
   "source": [
    "np.array(a)"
   ]
  },
  {
   "cell_type": "code",
   "execution_count": 12,
   "metadata": {},
   "outputs": [
    {
     "data": {
      "text/plain": [
       "(3, 3, 2)"
      ]
     },
     "execution_count": 12,
     "metadata": {},
     "output_type": "execute_result"
    }
   ],
   "source": [
    "a = np.array([ [[1,2], [3,4], [1,2]],\n",
    "               [[5,6], [7,8], [5,6]],\n",
    "               [[8,9], [10,11], [12, 13]]])\n",
    "a.shape"
   ]
  },
  {
   "cell_type": "code",
   "execution_count": 14,
   "metadata": {},
   "outputs": [
    {
     "data": {
      "text/plain": [
       "torch.Size([2, 3, 3])"
      ]
     },
     "execution_count": 14,
     "metadata": {},
     "output_type": "execute_result"
    }
   ],
   "source": [
    "transforms.ToTensor()(a).shape"
   ]
  },
  {
   "cell_type": "code",
   "execution_count": null,
   "metadata": {},
   "outputs": [],
   "source": []
  }
 ],
 "metadata": {
  "kernelspec": {
   "display_name": "Python 3",
   "language": "python",
   "name": "python3"
  },
  "language_info": {
   "codemirror_mode": {
    "name": "ipython",
    "version": 3
   },
   "file_extension": ".py",
   "mimetype": "text/x-python",
   "name": "python",
   "nbconvert_exporter": "python",
   "pygments_lexer": "ipython3",
   "version": "3.7.3"
  }
 },
 "nbformat": 4,
 "nbformat_minor": 2
}
